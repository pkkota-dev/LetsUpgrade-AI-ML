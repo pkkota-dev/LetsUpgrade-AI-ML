{
 "cells": [
  {
   "cell_type": "code",
   "execution_count": 3,
   "metadata": {},
   "outputs": [
    {
     "name": "stdout",
     "output_type": "stream",
     "text": [
      "(-1-3j)\n"
     ]
    }
   ],
   "source": [
    "#Question1 : Write a program to subtract two complex numbers in Python\n",
    "a= 1+2j #in python we need to give complex number in the syntax a+bj\n",
    "b = 2+5j\n",
    "\n",
    "print(a-b)"
   ]
  },
  {
   "cell_type": "code",
   "execution_count": 5,
   "metadata": {},
   "outputs": [
    {
     "name": "stdout",
     "output_type": "stream",
     "text": [
      "10.0\n"
     ]
    }
   ],
   "source": [
    "#Question2 Write a program to find the fourth root of a number\n",
    "a = 10000\n",
    "fourthRoot = a**0.25\n",
    "print(fourthRoot)\n"
   ]
  },
  {
   "cell_type": "code",
   "execution_count": 3,
   "metadata": {},
   "outputs": [
    {
     "name": "stdout",
     "output_type": "stream",
     "text": [
      "values before swapping a = 5 b= 10\n",
      "values after swapping a = 10 b= 5\n"
     ]
    }
   ],
   "source": [
    "#Question 3:\n",
    "#Write a program to swap two numbers in Python with the help of a temporary variable.\n",
    "a = 5\n",
    "b= 10\n",
    "print('values before swapping a =',a,'b=',b)\n",
    "c =b\n",
    "b = a\n",
    "a = c\n",
    "print('values after swapping a =',a,'b=',b)"
   ]
  },
  {
   "cell_type": "code",
   "execution_count": 7,
   "metadata": {},
   "outputs": [
    {
     "name": "stdout",
     "output_type": "stream",
     "text": [
      "10\n",
      "5\n"
     ]
    }
   ],
   "source": [
    "#Question 4:\n",
    "#Write a program to swap two numbers in Python without using a temporary variable\n",
    "a=5\n",
    "b=10\n",
    "\n",
    "a = a+b\n",
    "b = a-b\n",
    "a = a-b\n",
    "\n",
    "print(a)\n",
    "print(b)\n"
   ]
  },
  {
   "cell_type": "code",
   "execution_count": 14,
   "metadata": {},
   "outputs": [
    {
     "name": "stdout",
     "output_type": "stream",
     "text": [
      "fahrenheit:  60 equalent value to kelvin is:  288.7055555555556\n",
      "fahrenheit:  60 equalent value to celcius is:  15.555555555555555\n"
     ]
    }
   ],
   "source": [
    "#Question 5:\n",
    "#Write a program to convert fahrenheit to kelvin and celsius both.\n",
    "\n",
    "'''Formulae to convert fahrenheit to kelvin\n",
    "T(K) = (T(°F) + 459.67) × 5/9'''\n",
    "\n",
    "tfheit = 60\n",
    "tKelvin = (tfheit + 459.67)* 5/9\n",
    "print('fahrenheit: ',tfheit,'equalent value to kelvin is: ', tKelvin)\n",
    "\n",
    "\n",
    "'''Formulae to convert fahrenheit to celcius\n",
    "T(°C) = (T(°F) - 32) / 1.8'''\n",
    "tCelcius = (tfheit-32)/1.8\n",
    "print('fahrenheit: ',tfheit,'equalent value to celcius is: ', tCelcius)"
   ]
  },
  {
   "cell_type": "code",
   "execution_count": 21,
   "metadata": {},
   "outputs": [
    {
     "name": "stdout",
     "output_type": "stream",
     "text": [
      "<class 'int'>\n",
      "<class 'float'>\n",
      "<class 'str'>\n",
      "<class 'list'>\n",
      "<class 'tuple'>\n",
      "<class 'dict'>\n",
      "<class 'complex'>\n",
      "<class 'bool'>\n"
     ]
    }
   ],
   "source": [
    "#Question 6:\n",
    "#Write a program to demonstrate all the available data types in Python. Hint: Use type() function.\n",
    "i = 10\n",
    "print(type(i))\n",
    "f = 12.1\n",
    "print(type(f))\n",
    "str = 'asdadsad'\n",
    "print(type(str))\n",
    "l=[1,2,3,4,'asdads']\n",
    "print(type(l))\n",
    "t = (1,2,3,45,1)\n",
    "print(type(t))\n",
    "d = {}\n",
    "print(type(d))\n",
    "cn= 1+2j\n",
    "print(type(cn))\n",
    "b= True\n",
    "print(type(b))"
   ]
  },
  {
   "cell_type": "markdown",
   "metadata": {},
   "source": [
    "Question 7:\n",
    "Create a Markdown cell in jupyter and list the steps discussed in the session by Dr. Darshan\n",
    "Ingle sir to create Github profile and upload Githubs Assignment link\n",
    "\n",
    "-> Go tp Github.com and create a profile \n",
    "<br>\n",
    "-> Create a Repository with the name LetsUpgrade-AI-ML\n",
    "<br>\n",
    "-> Make sure the created repo is of Public type so that it can be easy for the LetsUpgrade team to assess the assignments by us\n",
    "<br>\n",
    "-> Go through the tasks given and solve the problems\n",
    "<br>\n",
    "-> Once the tasks are completed download the .ipynb file or .py file\n",
    "<br>\n",
    "-> upload the corresponding file to the github\n",
    "<br>\n",
    "-> once the tasks are uploaded copy the github link and open that link in the \n",
    "incognito window which makes us sure that we created our github repo in public \n",
    "<br>\n",
    "-> Now open the subject assignment Google form page and enter the proper email address with which this github repo is linked and select the proper assignment day to which the submission is going to done\n",
    "<br>\n",
    "-> once the submission of the link is completed and submitted student will get a confirmation mail to his registered mail address that assignment is submitted \n",
    "<br>\n"
   ]
  },
  {
   "cell_type": "code",
   "execution_count": null,
   "metadata": {},
   "outputs": [],
   "source": []
  }
 ],
 "metadata": {
  "kernelspec": {
   "display_name": "Python 3",
   "language": "python",
   "name": "python3"
  },
  "language_info": {
   "codemirror_mode": {
    "name": "ipython",
    "version": 3
   },
   "file_extension": ".py",
   "mimetype": "text/x-python",
   "name": "python",
   "nbconvert_exporter": "python",
   "pygments_lexer": "ipython3",
   "version": "3.7.5"
  }
 },
 "nbformat": 4,
 "nbformat_minor": 4
}

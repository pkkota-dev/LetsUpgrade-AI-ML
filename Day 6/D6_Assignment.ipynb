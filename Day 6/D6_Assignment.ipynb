{
 "cells": [
  {
   "cell_type": "markdown",
   "metadata": {},
   "source": [
    "Question 1:\n",
    "<br>\n",
    "Assuming that we have some email addresses in the \"username@companyname.com\" format, please write program\n",
    "to print the company name of a given email address. Both user names and company names are composed of letters\n",
    "only.\n",
    "<br>\n",
    "Input Format:\n",
    "<br>\n",
    "The first line of the input contains an email address.\n",
    "<br>\n",
    "Output Format:\n",
    "<br>\n",
    "Print the company name in single line.\n",
    "<br>\n",
    "Example;\n",
    "<br>\n",
    "Input:\n",
    "john@google.com\n",
    "<br>\n",
    "Output:\n",
    "google\n"
   ]
  },
  {
   "cell_type": "code",
   "execution_count": 1,
   "metadata": {},
   "outputs": [
    {
     "name": "stdout",
     "output_type": "stream",
     "text": [
      "User Name  username\n",
      "company name  companyname\n"
     ]
    }
   ],
   "source": [
    "email = 'username@companyname.com\"'\n",
    "username = email.split('@')[0] \n",
    "companyname = email.split('@')[1].split('.')[0]\n",
    "print('User Name ', username)\n",
    "print('company name ', companyname)\n"
   ]
  },
  {
   "cell_type": "markdown",
   "metadata": {},
   "source": [
    "Question 2:\n",
    "<br>\n",
    "Write a program that accepts a comma-separated sequence of words as input and prints the words in a comma\n",
    "separated sequence after sorting them alphabetically.\n",
    "<br>\n",
    "Input Format:\n",
    "The first line of input contains words separated by the comma.\n",
    "<br>\n",
    "Output Format:\n",
    "Print the sorted words separated by the comma.\n",
    "<br>\n",
    "Example:\n",
    "<br>\n",
    "Input:\n",
    "without,hello,bag,world\n",
    "<br>\n",
    "Output:\n",
    "bag,hello,without,world"
   ]
  },
  {
   "cell_type": "code",
   "execution_count": 2,
   "metadata": {},
   "outputs": [
    {
     "name": "stdout",
     "output_type": "stream",
     "text": [
      "please enter comma seperated words  without  ,  hello  ,  bag  ,  world\n",
      "<class 'str'>\n",
      "  without  ,  hello  ,  bag  ,  world\n",
      "['without', 'hello', 'bag', 'world']\n",
      "['bag', 'hello', 'without', 'world']\n"
     ]
    }
   ],
   "source": [
    "words = input('please enter comma seperated words')\n",
    "print(type(words))\n",
    "print(words)\n",
    "words = words.strip()\n",
    "wrd =[]\n",
    "wordslist = words.split(',')\n",
    "for word in wordslist:\n",
    "    wrd.append(word.strip())\n",
    "\n",
    "print(wrd)\n",
    "wrd.sort()\n",
    "print(wrd)\n"
   ]
  },
  {
   "cell_type": "markdown",
   "metadata": {},
   "source": [
    "Question 3:\n",
    "<br>\n",
    "Create your own Jupyter Notebook for Sets.\n",
    "<br>\n",
    "Reference link: https://www.w3schools.com/python/python_sets.asp\n"
   ]
  },
  {
   "cell_type": "code",
   "execution_count": 3,
   "metadata": {},
   "outputs": [
    {
     "name": "stdout",
     "output_type": "stream",
     "text": [
      "{'banana', 'apple', 'lemon', 'plum'}\n",
      "Items after adding the rose:  {'Rose', 'banana', 'apple', 'plum', 'lemon'}\n",
      "Items after removing the rose:  {'banana', 'apple', 'plum', 'lemon'}\n",
      "frozenset({1, 3, 'a', 5, 'b'})\n",
      "banana\n",
      "apple\n",
      "plum\n",
      "lemon\n",
      "False\n",
      "True\n",
      "{1, 2, 'banana', 3, 4, 'apple', 'plum', 'lemon'}\n",
      "{1, 2, 'banana', 3, 4, 'apple', 'plum', 'lemon'}\n",
      "{3, 12, 45, 6}\n",
      "{'a', 'b'}\n",
      "{3, 'a', 6, 'b', 12, 45}\n",
      "{'a', 'b'}\n",
      "{'apple'}\n"
     ]
    }
   ],
   "source": [
    "#Sets are unordered.\n",
    "#Set elements are unique. Duplicate elements are not allowed.\n",
    "#A set itself may be modified, but the elements contained in the set must be of an immutable type.\n",
    "\n",
    "#Creation of Set: It is created using the curly braces {} ex as below\n",
    "\n",
    "items ={\"apple\", \"banana\", \"lemon\", \"plum\"}\n",
    "print(items) #in w3 schools i can see different outputs for every exeuction but here am seeing the same o/p everytime even they mention we cannot predict the output\n",
    "\n",
    "#2 different sets are available \n",
    "# Set => Mutable whose values can be changes\n",
    "\n",
    "items.add(\"Rose\") ##To add only one item\n",
    "print('Items after adding the rose: ', items ) #Created items is mutable set so we are able to add one more item \"ROSE\" in the items set\n",
    "\n",
    "items.remove(\"Rose\") #If item is not there we will see the error to avoid the error we can use discard()\n",
    "print('Items after removing the rose: ', items )\n",
    "\n",
    "items.discard('rose') #even we dont have rose in the set and tried to remove we are not seeeing any error \n",
    "\n",
    "#Frozen Set => Immutable whose values cannot be changed\n",
    "fs =frozenset({'a','b',1,3,5}) # to create frozenset we need to use the keyword frozenset({items})\n",
    "print(fs)\n",
    "#fs.add(123) #as it is a frozen set we will get error while executing this statement so commenting out to exxecute the next statments\n",
    "\n",
    "#we can use membershitp operator for sets as below\n",
    "\n",
    "for item in items:\n",
    "    print(item)\n",
    "    \n",
    "#To verify necessary item is there or not\n",
    "print('Banana' in items) #Returns True or False\n",
    "print('apple' in items)\n",
    "\n",
    "#Updating the set\n",
    "items.update({1,2,3,4}) #it will update the set with the items or we can say if we want to add multiple items we will be using the update\n",
    "print(items)\n",
    "items.update({'plum', 'apple', 4, 'banana', 'lemon'})\n",
    "print(items)\n",
    "\n",
    "\n",
    "\n",
    "##Join 2 sets\n",
    "\n",
    "##Union\n",
    "s1 = {12,3,45,6}\n",
    "s2 ={'a','b'}\n",
    "\n",
    "s3 = s1.union(s2)  ## we can assume union is equalent to update() where as in union we will be getting a new set where as in update() existing set gets updated()\n",
    "print(s1)\n",
    "print(s2)\n",
    "print(s3)\n",
    "\n",
    "\n",
    "s1 = {12,3,45,6}\n",
    "s2 ={'a','b'}\n",
    "\n",
    "s1.update(s2)\n",
    "print(s2)\n",
    "\n",
    "\n",
    "#To determine the intersection items\n",
    "x = {\"apple\", \"banana\", \"cherry\"}\n",
    "y = {\"google\", \"microsoft\", \"apple\"}\n",
    "\n",
    "z = x.intersection(y)\n",
    "\n",
    "print(z)"
   ]
  },
  {
   "cell_type": "markdown",
   "metadata": {},
   "source": [
    "Question 4:\n",
    "<br>\n",
    "Given a list of n-1 numbers ranging from 1 to n, your task is to find the missing number. There are no duplicates.\n",
    "<br>\n",
    "Input Format:\n",
    "The first line contains n-1 numbers with each number separated by a space.\n",
    "<br>\n",
    "Output Format:\n",
    "Print the missing number\n",
    "<br>\n",
    "Example:\n",
    "Input:1 2 4 6 3 7 8\n",
    "Output:5\n",
    "Explanation:\n",
    "In the above list of numbers 5 is missing and hence 5 is the input"
   ]
  },
  {
   "cell_type": "code",
   "execution_count": 4,
   "metadata": {},
   "outputs": [
    {
     "name": "stdout",
     "output_type": "stream",
     "text": [
      "[100, 103, 104, 105, 107]\n",
      "[101, 102, 106]\n"
     ]
    }
   ],
   "source": [
    "nums = [ 100, 107, 103, 104, 105]\n",
    "nums.sort() #Soring the nums\n",
    "print(nums)\n",
    "\n",
    "x = list(range(min(nums), max(nums)+1,1 )) #Creating one more list with the number from min til max based on the abv created list\n",
    "missingnums = []\n",
    "\n",
    "for num in x:\n",
    "    if num in nums:\n",
    "        continue\n",
    "    else:\n",
    "        missingnums.append(num)\n",
    "print(missingnums)"
   ]
  },
  {
   "cell_type": "markdown",
   "metadata": {},
   "source": [
    "Question 5:\n",
    "<br>\n",
    "With a given list L, write a program to print this list L after removing all duplicate values with original order reserved.\n",
    "<br>\n",
    "Example:\n",
    "<br>\n",
    "If the input list is\n",
    "12 24 35 24 88 120 155 88 120 155\n",
    "Then the output should be\n",
    "12 24 35 88 120 155\n",
    "<br>\n",
    "Explanation:\n",
    "<br> Third, seventh and ninth element of the list L has been removed because it was already present.\n",
    "<br> Input Format:\n",
    "<br>In one line take the elements of the list L with each element separated by a space.\n",
    "<br>Output Format:\n",
    "Print the elements of the modified list in one line with each element separated by a space.\n",
    "Example:\n",
    "Input: 12 24 35 24\n",
    "Output:\n",
    "12 24 35\n"
   ]
  },
  {
   "cell_type": "code",
   "execution_count": 5,
   "metadata": {},
   "outputs": [
    {
     "name": "stdout",
     "output_type": "stream",
     "text": [
      "12 24 35 24 88 120 155 88 120 155\n",
      "12 24 35 88 120 155\n"
     ]
    }
   ],
   "source": [
    "nums = [int(i) for i in input().split() ]\n",
    "n = set(nums)\n",
    "print(*sorted(n, key = nums.index))"
   ]
  }
 ],
 "metadata": {
  "kernelspec": {
   "display_name": "Python 3",
   "language": "python",
   "name": "python3"
  },
  "language_info": {
   "codemirror_mode": {
    "name": "ipython",
    "version": 3
   },
   "file_extension": ".py",
   "mimetype": "text/x-python",
   "name": "python",
   "nbconvert_exporter": "python",
   "pygments_lexer": "ipython3",
   "version": "3.7.5"
  }
 },
 "nbformat": 4,
 "nbformat_minor": 4
}

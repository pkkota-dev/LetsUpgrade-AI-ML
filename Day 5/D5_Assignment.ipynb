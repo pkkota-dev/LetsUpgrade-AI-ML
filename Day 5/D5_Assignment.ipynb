{
 "cells": [
  {
   "cell_type": "markdown",
   "metadata": {},
   "source": [
    "Question 1 :\n",
    "<br>\n",
    "Write a Python program to find the first 20 non-even prime natural numbers.\n"
   ]
  },
  {
   "cell_type": "code",
   "execution_count": 61,
   "metadata": {},
   "outputs": [
    {
     "name": "stdout",
     "output_type": "stream",
     "text": [
      "3 5 7 9 11 13 15 17 19 21 23 25 27 29 31 33 35 37 39 41 "
     ]
    }
   ],
   "source": [
    "def next_number(num):\n",
    "    return num+1\n",
    "\n",
    "def isPrimerNot(num):\n",
    "    for i in range(2,num):\n",
    "        if num%i==0:\n",
    "            return False\n",
    "        else:\n",
    "            return True\n",
    "\n",
    "number = 1\n",
    "primCount = 0\n",
    "\n",
    "while(True):\n",
    "    if number%2 !=0:\n",
    "        ret = isPrimerNot(number)\n",
    "        if ret:\n",
    "            print(number, end=\" \")\n",
    "            primCount += 1\n",
    "    if primCount == 20:\n",
    "        break\n",
    "    else:\n",
    "        number = next_number(number)\n",
    "\n",
    "    "
   ]
  },
  {
   "cell_type": "markdown",
   "metadata": {},
   "source": [
    "Question 2 :\n",
    "<br>\n",
    "Write a Python program to implement 15 functions of string.\n"
   ]
  },
  {
   "cell_type": "code",
   "execution_count": 58,
   "metadata": {},
   "outputs": [
    {
     "name": "stdout",
     "output_type": "stream",
     "text": [
      "Assignment day 5\n",
      "ASSIGNMENT DAY 5\n",
      "assignment day 5\n",
      "False\n",
      "True\n",
      "aSSIGNMENT dAY 5\n",
      "ssignment Day 5\n",
      "('Assignment ', 'Da', 'y 5')\n",
      "Assignment dAy 5\n",
      "HAssignment Day 5eAssignment Day 5lAssignment Day 5oAssignment Day 5o\n",
      "False\n",
      "False\n",
      "False\n",
      "11\n",
      "b'Assignment Day 5'\n"
     ]
    }
   ],
   "source": [
    "text = \"Assignment Day 5\"\n",
    "print(text.capitalize()) #Capitalize() returns the first character of the str capitalized\n",
    "print(text.upper()) # upper() returns a copy of the string converted to upper case\n",
    "print(text.lower()) #lower() returns a copy of the string converted to lower case\n",
    "print(text.startswith('b')) #startswith() verifies whether the string is started with the given character or not\n",
    "print(text.startswith('g',4,6))# startswith(char,start,end) \n",
    "print(text.swapcase()) #swapcase() upper to lower, lower to upper\n",
    "print(text.strip(\"A\")) #strip() removes the trailing, leading chars if no chars then it means remave the trailing and starting spaces\n",
    "print(text.partition('Da')) #partition() searches for the specified string and splits the string into a tuple containing three\n",
    "print(text.replace('Da','dA')) #replace() helps to replace the specified string with given values\n",
    "print(text.join('Heloo')) #join() joins the elements of an iterable to the end of the string\n",
    "print(text.isnumeric()) #isnumeric() verifies its numeric or not\n",
    "print(text.isalpha()) #isalpha() returns whether all the elements in the string is an alphbet\n",
    "print(text.isalnum()) #isalanum() returns True if all chars are letter or nums, returns false if there is any space or special char\n",
    "print(text.find('D')) #find() searches the position of char D in the string\n",
    "print(text.encode('utf-8')) #encode() returns the text in that encoding format"
   ]
  },
  {
   "cell_type": "markdown",
   "metadata": {},
   "source": [
    "Question 3:\n",
    "<br>\n",
    "Write a Python program to check if the given string is a Palindrome or Anagram or None of them.\n",
    "Display the message accordingly to the user.\n"
   ]
  },
  {
   "cell_type": "code",
   "execution_count": 78,
   "metadata": {},
   "outputs": [
    {
     "name": "stdout",
     "output_type": "stream",
     "text": [
      "Entered string is palindrome\n",
      "Entered striing is anagram\n"
     ]
    }
   ],
   "source": [
    "str1 = 'noon'\n",
    "str2 = 'NO ON'\n",
    "\n",
    "#removing the spaces and changing the string to lower case\n",
    "str1 = str1.replace(\" \",\"\").lower()\n",
    "str2 = str2.replace(\" \",\"\").lower()\n",
    "\n",
    "if str1 == str2:\n",
    "    print('Entered string is palindrome')\n",
    "if sorted(str1) == sorted(str2):\n",
    "    print('Entered striing is anagram')\n",
    "else:\n",
    "    print('Entered string is neither palindrome or anagram')\n",
    "    "
   ]
  },
  {
   "cell_type": "markdown",
   "metadata": {},
   "source": [
    "Question 4:\n",
    "<br>\n",
    "Write a Python's user defined function that removes all the additional characters from the string\n",
    "and converts it finally to lower case using built-in lower(). eg: If the string is \"Dr. Darshan Ingle\n",
    "@AI-ML Trainer\", then the output be \"drdarshaningleaimltrainer\"."
   ]
  },
  {
   "cell_type": "code",
   "execution_count": 79,
   "metadata": {},
   "outputs": [
    {
     "name": "stdout",
     "output_type": "stream",
     "text": [
      "drdarshaningleaimltrainer\n"
     ]
    }
   ],
   "source": [
    "str =  \"Dr. Darshan Ingle @AI-ML Trainer\"\n",
    "def user_defined(str):\n",
    "    spcial_chars = ['~','!','@','#','$','%','^','&','*','(',')','-','_', '+','=',':',';','\\'','\"', '\"','<',',','>','.','?','/',' ' ]\n",
    "    for schar in spcial_chars:\n",
    "        str = str.replace(schar, '')\n",
    "    return str\n",
    "\n",
    "str = user_defined(str)\n",
    "print(str.lower())"
   ]
  }
 ],
 "metadata": {
  "kernelspec": {
   "display_name": "Python 3",
   "language": "python",
   "name": "python3"
  },
  "language_info": {
   "codemirror_mode": {
    "name": "ipython",
    "version": 3
   },
   "file_extension": ".py",
   "mimetype": "text/x-python",
   "name": "python",
   "nbconvert_exporter": "python",
   "pygments_lexer": "ipython3",
   "version": "3.7.5"
  }
 },
 "nbformat": 4,
 "nbformat_minor": 4
}

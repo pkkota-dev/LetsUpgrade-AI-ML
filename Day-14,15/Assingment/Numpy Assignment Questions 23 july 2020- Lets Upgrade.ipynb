{
 "cells": [
  {
   "cell_type": "markdown",
   "metadata": {},
   "source": [
    "# 1. Create a 3x3x3 array with random values "
   ]
  },
  {
   "cell_type": "code",
   "execution_count": 1,
   "metadata": {},
   "outputs": [
    {
     "name": "stdout",
     "output_type": "stream",
     "text": [
      "[[[92 94 42]\n",
      "  [61 28 96]\n",
      "  [29 52 39]]\n",
      "\n",
      " [[28 38 40]\n",
      "  [77 83 35]\n",
      "  [93 78 34]]\n",
      "\n",
      " [[38 43 89]\n",
      "  [14 54 70]\n",
      "  [31 48 27]]]\n"
     ]
    }
   ],
   "source": [
    "import numpy as np\n",
    "a = np.random.randint(100,size=27).reshape(3,3,3)\n",
    "print(a)"
   ]
  },
  {
   "cell_type": "markdown",
   "metadata": {},
   "source": [
    "# 2.Create a 5x5 matrix with values 1,2,3,4 just below the diagonal"
   ]
  },
  {
   "cell_type": "code",
   "execution_count": 2,
   "metadata": {},
   "outputs": [
    {
     "data": {
      "text/plain": [
       "array([[0, 0, 0, 0, 0],\n",
       "       [1, 0, 0, 0, 0],\n",
       "       [0, 2, 0, 0, 0],\n",
       "       [0, 0, 3, 0, 0],\n",
       "       [0, 0, 0, 4, 0]])"
      ]
     },
     "execution_count": 2,
     "metadata": {},
     "output_type": "execute_result"
    }
   ],
   "source": [
    "np.diagflat([[1,2], [3,4]],-1)"
   ]
  },
  {
   "cell_type": "markdown",
   "metadata": {},
   "source": [
    "# 3.Create a 8x8 matrix and fill it with a checkerboard pattern"
   ]
  },
  {
   "cell_type": "code",
   "execution_count": 3,
   "metadata": {},
   "outputs": [
    {
     "data": {
      "text/plain": [
       "array([[0, 1, 0, 1, 0, 1, 0, 1],\n",
       "       [1, 0, 1, 0, 1, 0, 1, 0],\n",
       "       [0, 1, 0, 1, 0, 1, 0, 1],\n",
       "       [1, 0, 1, 0, 1, 0, 1, 0],\n",
       "       [0, 1, 0, 1, 0, 1, 0, 1],\n",
       "       [1, 0, 1, 0, 1, 0, 1, 0],\n",
       "       [0, 1, 0, 1, 0, 1, 0, 1],\n",
       "       [1, 0, 1, 0, 1, 0, 1, 0]])"
      ]
     },
     "execution_count": 3,
     "metadata": {},
     "output_type": "execute_result"
    }
   ],
   "source": [
    "patrn = np.zeros((8,8), dtype= int)\n",
    "patrn[1::2, ::2]=1\n",
    "patrn[::2, 1::2]=1\n",
    "patrn\n"
   ]
  },
  {
   "cell_type": "markdown",
   "metadata": {},
   "source": [
    "# 4. Normalize a 5x5 random matrix"
   ]
  },
  {
   "cell_type": "code",
   "execution_count": 4,
   "metadata": {},
   "outputs": [
    {
     "name": "stdout",
     "output_type": "stream",
     "text": [
      "[[0.92592593 0.41798942 1.         0.60846561 0.        ]\n",
      " [0.18518519 0.96825397 0.52910053 0.23809524 0.71957672]\n",
      " [0.13227513 0.62433862 0.47089947 0.12169312 0.22222222]\n",
      " [0.21693122 0.66666667 0.52380952 0.71957672 0.97883598]\n",
      " [0.48148148 0.43915344 0.97883598 0.44444444 0.6031746 ]]\n"
     ]
    }
   ],
   "source": [
    "#Normalization of matrix \n",
    "randmat = np.random.randint(200,size=25).reshape(5,5)\n",
    "xmax, xmin = randmat.max(), randmat.min()\n",
    "\n",
    "normalized_mat = (randmat-xmin)/(xmax-xmin)\n",
    "print(normalized_mat)\n"
   ]
  },
  {
   "cell_type": "markdown",
   "metadata": {},
   "source": [
    "# 5.  How to find common values between two arrays?"
   ]
  },
  {
   "cell_type": "code",
   "execution_count": 5,
   "metadata": {},
   "outputs": [
    {
     "name": "stdout",
     "output_type": "stream",
     "text": [
      "[[5 0 0]\n",
      " [5 5 2]]\n",
      "[[0 8 7]\n",
      " [2 0 1]]\n"
     ]
    },
    {
     "data": {
      "text/plain": [
       "array([0, 2])"
      ]
     },
     "execution_count": 5,
     "metadata": {},
     "output_type": "execute_result"
    }
   ],
   "source": [
    "a1 = np.random.randint(6,size=6).reshape(2,3)\n",
    "a2 = np.random.randint(10,size=6).reshape(2,3)\n",
    "\n",
    "print(a1)\n",
    "print(a2)\n",
    "np.intersect1d(a1,a2)"
   ]
  },
  {
   "cell_type": "markdown",
   "metadata": {},
   "source": [
    "# 6.How to get the dates of yesterday, today and tomorrow?"
   ]
  },
  {
   "cell_type": "code",
   "execution_count": 6,
   "metadata": {},
   "outputs": [
    {
     "name": "stdout",
     "output_type": "stream",
     "text": [
      "Yesterday date 2020-07-27\n",
      "Today 2020-07-28\n",
      "Tomorrow 2020-07-29\n"
     ]
    }
   ],
   "source": [
    "yesterday = np.datetime64('Today') - np.timedelta64(1, 'D')\n",
    "today = np.datetime64('Today') \n",
    "tomorrow = np.datetime64('Today') + np.timedelta64(1,'D')\n",
    "\n",
    "print('Yesterday date', yesterday)\n",
    "print('Today', today)\n",
    "print('Tomorrow', tomorrow)"
   ]
  },
  {
   "cell_type": "markdown",
   "metadata": {},
   "source": [
    "# 7. Consider two random array A and B, check if they are equal"
   ]
  },
  {
   "cell_type": "code",
   "execution_count": 7,
   "metadata": {},
   "outputs": [
    {
     "name": "stdout",
     "output_type": "stream",
     "text": [
      "[[0 0]\n",
      " [0 0]]\n",
      "[[0 0]\n",
      " [0 0]]\n",
      "Are both the random arrays are equal True\n",
      "[[0 0]\n",
      " [2 3]]\n",
      "[[3 1]\n",
      " [0 3]]\n",
      "Are both the random arrays are equal False\n"
     ]
    }
   ],
   "source": [
    "arr1 = np.random.randint(1,size=4).reshape(2,2)\n",
    "arr2 = np.random.randint(1,size=4).reshape(2,2)\n",
    "print(arr1)\n",
    "print(arr2)\n",
    "print('Are both the random arrays are equal',np.array_equal(arr1,arr2))\n",
    "\n",
    "arr1 = np.random.randint(4,size=4).reshape(2,2)\n",
    "arr2 = np.random.randint(4,size=4).reshape(2,2)\n",
    "print(arr1)\n",
    "print(arr2)\n",
    "print('Are both the random arrays are equal',np.array_equal(arr1,arr2))"
   ]
  },
  {
   "cell_type": "markdown",
   "metadata": {},
   "source": [
    "# 8.Create random vector of size 10 and replace the maximum value by 0 "
   ]
  },
  {
   "cell_type": "code",
   "execution_count": 8,
   "metadata": {},
   "outputs": [
    {
     "name": "stdout",
     "output_type": "stream",
     "text": [
      "[ 97  56  85  47  12  75  98  59 179 191]\n",
      "Max val in the given vector 191\n",
      "Updated vector by replacing max number to zero as follows [ 97  56  85  47  12  75  98  59 179   0]\n"
     ]
    }
   ],
   "source": [
    "#Creation of 1-D numpy array itself is called a vector\n",
    "vect = np.random.randint(200,size=10)\n",
    "print(vect)\n",
    "pos = np.argmax(vect)\n",
    "print('Max val in the given vector', vect[pos])\n",
    "vect[pos] = 0\n",
    "print('Updated vector by replacing max number to zero as follows', vect)"
   ]
  },
  {
   "cell_type": "markdown",
   "metadata": {},
   "source": [
    "# 9. How to print all the values of an array?"
   ]
  },
  {
   "cell_type": "code",
   "execution_count": 9,
   "metadata": {},
   "outputs": [
    {
     "name": "stdout",
     "output_type": "stream",
     "text": [
      "[[5 6 1 8 0 1 9 4 5 8 8 0 4 2 2 3 2 4 5 1 6 6 8 7 3 6 0 6 8 2 5 9 8 9 3 7\n",
      "  6 3 1 8 5 6 1 4 0 9 7 2 4 5 9 2 8 4 1 9 7 1 1 1 3 7 7 2 6 4 1 7 3 0 9 5\n",
      "  2 2 9 8 8 8 7 7 6 6 4 6 9 5 3 0 8 5 6 2 6 4 1 6 8 8 1 6 3 0 4 6 5 2 0 0\n",
      "  7 1 8 9 2 9 6 2 4 9 4 3 9 1 5 7 2 8 5 5 5 2 5 6 8 5 8 1 8 9 0 6 2 3 3 6\n",
      "  2 1 2 1 2 7 1 9 6 7 5 0 6 8 9 9 9 5 2 0 9 9 3 8 4 5 9 2 6 9 0 4 4 2 2 7\n",
      "  1 8 9 2 3 0 3 8 5 6 6 5 5 1 3 1 3 9 5 7]\n",
      " [1 0 1 9 7 3 9 7 8 2 9 3 7 9 4 0 1 1 1 9 4 3 9 9 7 2 8 8 4 3 3 1 4 8 8 7\n",
      "  0 3 8 5 8 0 6 5 3 7 3 4 9 5 1 6 8 1 5 2 2 1 2 9 6 9 4 1 4 0 5 2 5 3 8 2\n",
      "  8 4 4 2 1 1 8 6 3 5 7 0 3 5 0 6 8 0 2 3 7 2 9 6 2 3 8 2 3 6 1 1 8 8 1 2\n",
      "  4 6 5 6 0 0 5 9 2 2 0 4 7 8 7 1 0 4 7 9 9 4 1 4 5 8 3 1 3 1 0 6 7 9 4 3\n",
      "  2 4 6 7 3 9 3 5 3 6 7 1 2 0 7 6 7 7 1 5 2 7 0 9 3 9 7 1 0 9 5 4 8 9 1 7\n",
      "  1 0 8 2 4 3 4 7 3 7 6 8 1 4 9 6 5 6 1 9]\n",
      " [7 8 3 4 3 8 4 4 6 9 4 4 4 6 4 1 5 1 2 0 0 9 9 9 6 6 9 8 3 2 4 3 4 4 5 6\n",
      "  0 3 6 8 2 8 4 6 7 1 0 4 2 0 7 0 2 6 7 6 3 5 1 7 6 7 7 9 4 2 2 1 0 9 1 8\n",
      "  8 5 4 6 2 6 7 6 1 8 0 6 6 8 4 3 4 1 0 0 4 5 5 9 6 2 2 7 8 5 4 1 6 6 1 4\n",
      "  4 8 9 7 1 3 4 9 8 1 3 9 6 1 4 3 9 9 2 4 1 4 6 3 1 3 7 2 4 2 1 4 6 7 0 0\n",
      "  4 8 7 5 8 7 0 5 1 7 0 3 9 8 1 8 4 0 5 9 6 2 3 4 0 2 1 3 7 8 9 3 6 3 8 6\n",
      "  5 4 4 6 9 2 7 3 4 8 9 8 8 0 2 0 1 4 1 0]\n",
      " [5 0 4 0 0 9 0 2 1 3 4 6 5 8 3 5 7 2 1 7 4 9 7 8 0 8 3 8 3 6 9 0 7 3 6 4\n",
      "  5 6 1 5 1 5 9 4 0 3 8 7 1 0 4 1 9 2 1 6 6 0 7 5 7 0 8 8 5 9 8 6 5 3 3 6\n",
      "  6 4 1 3 4 1 1 8 9 3 3 6 0 3 7 6 0 2 2 9 9 7 8 7 4 2 1 0 1 9 8 1 7 5 8 2\n",
      "  3 6 5 6 1 0 5 6 3 9 4 4 4 7 5 4 1 1 3 1 9 7 4 4 5 8 4 4 6 3 4 7 6 3 4 3\n",
      "  1 7 6 5 6 5 0 6 4 7 6 1 7 8 0 2 7 6 0 3 5 4 8 5 8 0 3 6 7 7 6 4 2 0 3 3\n",
      "  0 0 9 4 2 1 4 0 1 3 3 9 7 3 0 9 8 6 9 0]\n",
      " [5 7 5 2 4 2 6 2 5 0 8 0 2 9 0 7 6 5 7 2 1 5 7 3 7 3 6 6 7 7 1 2 0 3 3 0\n",
      "  2 0 6 0 6 9 4 4 4 5 7 0 6 1 5 4 6 1 7 1 5 9 3 2 0 4 4 2 1 2 7 4 0 5 9 9\n",
      "  1 1 3 5 6 1 1 5 8 8 9 6 1 0 7 0 7 3 9 8 2 4 2 9 1 6 2 7 9 2 6 5 0 9 6 1\n",
      "  9 7 3 2 7 6 4 4 8 0 1 5 5 9 5 5 5 8 0 7 8 8 8 9 1 6 1 3 6 4 7 7 8 2 7 9\n",
      "  2 3 3 7 6 7 6 6 2 9 0 3 2 3 4 8 5 1 3 8 8 5 9 0 8 0 4 8 0 4 9 9 4 8 5 8\n",
      "  4 6 6 9 6 7 9 4 9 5 0 6 3 9 4 0 4 6 9 4]\n",
      " [4 0 9 6 6 1 4 7 2 8 2 7 6 4 6 8 1 5 5 6 3 6 8 1 9 5 9 1 7 6 6 7 7 1 4 3\n",
      "  3 8 8 6 4 8 3 0 0 0 6 6 2 2 7 7 2 9 1 3 6 3 7 4 7 9 1 6 7 5 7 9 8 5 7 6\n",
      "  6 5 8 0 4 6 9 4 6 0 8 1 4 8 1 5 0 0 5 7 3 0 4 4 2 7 5 7 9 9 8 4 6 1 2 2\n",
      "  5 7 6 4 5 5 3 4 5 2 9 9 2 5 8 4 8 6 4 7 6 4 2 8 9 6 1 1 8 6 7 9 5 5 4 1\n",
      "  6 2 2 4 1 4 6 0 3 5 8 1 7 9 8 2 8 8 9 3 3 4 5 2 9 2 0 5 2 3 0 3 1 6 1 1\n",
      "  7 4 5 3 0 2 7 4 7 1 0 5 6 4 6 8 6 0 9 8]\n",
      " [4 3 5 7 4 1 4 3 9 3 9 7 6 2 8 2 1 4 5 1 6 5 6 1 7 9 4 4 0 5 5 2 1 1 2 2\n",
      "  8 6 6 0 7 6 0 2 6 5 1 7 8 9 4 8 4 4 1 4 0 1 6 7 8 9 6 6 5 0 4 8 5 0 3 7\n",
      "  1 7 9 4 3 7 3 1 5 0 9 3 3 2 4 6 1 2 3 6 2 5 4 9 3 0 1 4 7 1 6 3 9 6 9 4\n",
      "  6 4 1 4 2 8 0 8 9 9 7 6 3 1 7 6 2 9 2 0 4 1 1 3 6 5 0 9 8 3 4 3 6 8 8 3\n",
      "  2 0 6 9 0 6 5 9 0 4 9 4 8 0 0 9 4 0 8 5 7 9 2 9 1 6 9 6 2 3 5 0 0 9 0 2\n",
      "  2 1 3 8 6 9 5 3 9 3 1 8 3 5 9 1 2 8 0 4]\n",
      " [1 4 7 0 4 5 4 9 3 1 2 5 3 0 3 2 8 9 4 0 4 1 9 8 3 9 9 1 8 1 4 9 9 9 7 5\n",
      "  3 1 3 9 8 7 6 7 3 2 3 3 4 3 9 9 5 8 7 1 6 1 0 1 5 2 8 3 6 7 6 3 6 3 1 0\n",
      "  7 8 0 5 7 3 1 1 9 8 4 0 3 4 3 6 9 4 3 5 9 6 8 6 5 0 5 8 4 8 2 7 2 2 9 2\n",
      "  2 9 9 6 4 7 6 9 4 3 4 0 8 7 7 2 7 8 3 6 3 6 0 1 6 1 8 7 3 9 4 9 1 4 2 9\n",
      "  1 6 1 8 7 9 5 8 8 4 8 6 5 2 8 4 0 0 8 3 7 8 9 4 7 6 8 1 2 0 2 5 1 7 6 1\n",
      "  8 2 1 9 0 6 6 7 2 2 0 2 2 9 5 1 2 2 0 4]\n",
      " [8 8 5 5 4 6 1 9 8 0 2 8 1 7 4 7 3 7 9 6 1 2 3 2 9 2 4 0 5 6 3 8 4 0 2 0\n",
      "  1 4 6 4 6 8 5 5 5 2 5 5 6 1 7 0 6 8 9 9 6 7 9 7 8 9 1 8 2 3 9 1 6 6 5 8\n",
      "  1 9 3 0 1 7 4 3 0 8 9 1 6 0 3 0 8 0 4 3 3 1 7 6 5 7 0 9 4 1 6 9 4 5 0 2\n",
      "  8 5 5 3 7 6 8 0 9 7 7 3 9 4 3 2 9 1 2 0 3 6 2 3 2 1 9 6 3 7 4 7 6 6 3 9\n",
      "  8 9 6 6 7 0 4 1 7 0 1 3 1 9 2 7 2 6 8 8 8 4 4 3 7 6 9 1 4 7 7 8 5 0 1 1\n",
      "  5 9 2 5 2 0 5 1 7 9 6 4 4 5 9 3 9 9 5 2]\n",
      " [9 7 4 3 7 4 2 2 6 2 9 3 5 0 5 0 3 3 0 6 7 0 8 3 7 4 0 0 6 3 6 2 9 3 5 1\n",
      "  2 8 3 9 4 6 0 5 6 1 6 5 0 3 2 5 7 5 7 9 9 5 1 4 4 3 4 4 3 5 6 9 4 3 4 2\n",
      "  6 4 9 3 8 5 1 6 4 9 7 9 0 3 9 0 3 1 8 0 9 2 5 6 9 0 3 2 5 5 9 3 6 2 1 3\n",
      "  1 8 1 4 8 5 1 0 1 0 8 6 9 9 0 8 6 5 7 2 9 1 7 9 4 2 0 2 7 1 6 0 5 0 1 0\n",
      "  5 8 0 5 0 7 6 4 0 4 4 2 6 8 1 1 4 3 8 6 5 2 6 3 2 0 3 7 2 3 6 0 4 3 0 4\n",
      "  7 5 2 2 5 6 1 2 8 4 2 1 5 6 7 9 2 1 9 7]\n",
      " [4 3 1 3 5 5 3 9 7 8 7 7 0 5 8 5 6 1 0 3 3 7 7 0 6 9 1 8 3 2 0 0 3 2 1 5\n",
      "  1 5 7 0 5 7 9 1 7 4 1 8 4 2 0 7 7 9 7 7 6 2 1 6 0 1 4 7 9 4 9 4 8 7 7 9\n",
      "  6 6 2 3 8 9 3 9 6 7 5 9 9 0 5 3 0 3 0 4 3 5 9 4 1 3 2 0 0 9 2 2 8 0 8 8\n",
      "  0 8 3 3 0 5 5 6 3 3 7 9 1 8 8 4 0 3 5 4 0 7 7 7 2 5 3 2 0 2 6 0 1 7 9 1\n",
      "  2 7 5 3 0 4 3 8 3 9 9 5 4 7 1 0 7 4 3 0 8 4 0 7 7 4 1 4 2 3 9 5 0 9 2 9\n",
      "  3 6 5 8 2 5 0 4 7 3 6 8 9 8 4 6 1 1 1 9]\n",
      " [8 4 7 6 6 9 0 7 4 3 7 0 1 6 5 1 5 9 4 4 3 0 0 0 8 0 6 2 9 6 4 0 8 7 7 6\n",
      "  7 8 0 7 6 2 9 4 9 0 6 3 1 0 0 6 0 7 5 4 6 3 5 2 7 4 5 1 8 1 4 1 7 7 8 8\n",
      "  9 6 8 6 6 7 2 4 2 1 1 5 1 0 4 5 2 2 8 6 1 9 0 1 0 7 7 9 9 7 3 9 0 5 7 4\n",
      "  4 3 9 0 2 8 8 5 1 0 9 6 2 7 1 0 3 7 3 1 5 7 1 6 3 2 3 3 9 9 2 8 2 9 8 9\n",
      "  4 8 2 0 9 8 2 5 0 2 0 2 9 4 0 8 6 2 8 4 2 3 4 5 4 6 6 4 8 5 8 2 2 2 4 8\n",
      "  6 2 2 5 4 6 5 8 0 1 3 9 4 5 8 6 2 2 9 8]\n",
      " [9 9 1 6 8 6 9 7 7 3 1 7 4 4 9 4 2 0 8 5 8 4 8 5 4 4 3 5 2 3 1 9 2 1 2 2\n",
      "  1 0 8 5 1 6 9 1 6 6 0 2 1 3 7 1 3 8 1 4 2 1 0 4 6 9 4 7 5 1 7 3 7 7 5 1\n",
      "  1 7 6 9 7 2 2 0 4 8 2 6 3 3 8 5 5 8 0 9 0 2 1 5 7 6 3 5 0 1 8 2 4 1 6 4\n",
      "  1 1 6 0 3 9 4 0 9 6 4 9 5 0 4 5 6 9 7 1 5 7 9 8 9 7 2 9 9 0 2 5 9 8 7 4\n",
      "  8 9 6 9 1 1 7 4 7 4 7 5 3 6 5 6 7 9 0 5 5 5 7 4 1 6 5 5 0 1 9 1 3 9 3 4\n",
      "  8 0 9 8 8 3 4 6 7 1 1 0 5 2 9 3 1 5 1 4]\n",
      " [0 2 2 5 2 6 0 4 8 6 7 5 2 4 4 9 0 9 0 7 0 9 5 9 7 4 8 3 9 2 0 1 2 3 3 3\n",
      "  0 1 3 4 3 9 4 5 2 0 2 5 0 7 9 6 9 0 6 6 2 5 9 0 9 1 7 2 5 6 9 6 0 0 5 6\n",
      "  5 0 7 6 6 2 1 1 6 0 0 9 6 0 5 3 7 2 6 0 4 9 5 7 2 9 5 2 2 0 2 3 4 2 5 3\n",
      "  0 6 0 1 1 6 8 8 2 7 6 8 6 3 4 1 5 5 4 6 6 1 9 4 9 5 6 6 9 0 0 7 4 8 9 3\n",
      "  2 6 4 2 6 9 6 3 5 3 5 4 5 7 0 6 1 9 0 0 0 6 1 4 0 5 3 2 8 3 7 9 9 9 3 2\n",
      "  9 4 2 5 9 0 2 3 1 4 8 0 8 9 2 7 0 2 6 5]\n",
      " [9 9 1 5 2 8 5 9 4 4 7 5 4 9 4 9 7 7 7 7 6 8 9 9 9 2 4 6 7 4 4 1 3 3 9 2\n",
      "  8 3 9 9 4 9 6 3 9 7 9 1 1 5 0 3 9 9 2 6 9 9 5 3 0 7 2 0 5 9 1 3 1 7 8 9\n",
      "  4 1 6 6 7 8 3 1 5 0 8 7 5 8 6 3 3 3 9 3 8 6 6 1 9 7 1 7 3 0 9 6 4 1 5 0\n",
      "  4 6 4 9 3 4 9 5 6 0 4 8 9 1 2 9 7 4 9 9 4 7 3 7 2 3 3 5 9 9 0 7 5 7 2 2\n",
      "  2 6 8 6 3 7 5 4 9 7 9 0 4 4 8 1 7 9 0 4 0 4 0 6 1 5 8 5 7 8 9 8 0 0 6 5\n",
      "  5 8 3 8 0 5 1 2 0 3 2 8 7 4 3 7 6 9 3 9]\n",
      " [6 1 2 0 7 9 2 1 5 4 0 9 6 3 1 4 7 5 7 7 6 3 9 4 3 4 4 5 5 0 3 5 8 6 9 0\n",
      "  1 9 9 2 1 3 6 2 0 7 0 9 0 7 1 1 7 3 5 5 1 3 0 6 2 6 0 7 6 1 8 1 1 3 2 9\n",
      "  8 4 2 2 9 2 6 0 8 4 0 6 6 4 4 5 9 4 4 5 2 2 3 3 3 4 9 9 5 6 5 6 7 3 3 3\n",
      "  6 2 3 5 5 4 3 5 6 8 7 5 3 6 0 2 1 4 7 6 2 8 0 6 9 2 9 5 5 8 0 4 1 0 8 7\n",
      "  3 9 6 5 5 7 2 4 3 6 0 5 4 2 9 1 6 4 5 7 6 0 4 0 6 6 1 6 3 7 2 2 0 7 3 1\n",
      "  8 6 7 7 6 6 0 1 4 7 1 0 0 3 5 3 2 8 4 6]\n",
      " [5 5 8 1 2 2 6 6 0 1 2 2 8 2 3 6 1 8 0 0 8 5 2 9 6 1 5 5 4 6 5 2 1 2 6 4\n",
      "  4 2 7 3 4 3 7 6 1 2 2 6 7 8 2 2 5 4 0 3 3 7 9 4 7 2 8 8 3 5 7 0 1 1 3 5\n",
      "  4 5 9 6 4 6 0 5 0 8 2 2 6 5 0 1 5 0 1 0 2 4 7 6 5 1 4 9 7 0 6 8 7 7 5 2\n",
      "  5 6 7 6 2 4 3 3 5 7 7 2 0 5 3 5 4 7 0 2 0 7 7 9 9 4 0 5 4 3 7 5 6 7 4 1\n",
      "  6 8 7 6 0 6 4 3 7 3 5 3 5 3 4 9 1 3 6 6 7 4 5 0 2 4 8 5 2 5 7 8 7 9 8 1\n",
      "  8 1 7 3 4 5 1 2 0 8 0 8 4 5 5 0 5 9 3 5]\n",
      " [0 2 2 5 2 9 8 2 6 5 7 3 3 5 8 7 5 1 7 4 0 3 2 4 8 6 0 4 6 3 7 1 4 5 3 9\n",
      "  7 2 7 2 0 5 2 4 1 9 4 1 2 9 4 3 0 4 4 5 9 9 8 1 9 1 8 5 7 4 6 1 4 5 9 4\n",
      "  7 0 3 5 9 7 6 7 8 0 5 6 5 3 1 4 1 6 5 7 4 3 8 2 5 8 7 2 8 4 0 0 8 0 2 2\n",
      "  7 7 2 5 8 0 5 9 4 1 1 2 7 5 9 0 3 7 2 8 1 1 5 2 4 3 0 9 2 5 0 1 9 2 3 5\n",
      "  9 0 9 5 0 0 8 1 5 8 3 3 2 7 4 7 4 9 3 1 2 6 3 3 2 0 7 4 4 1 0 1 2 3 2 5\n",
      "  0 7 1 1 4 7 3 4 5 2 6 3 2 8 5 6 5 1 4 6]\n",
      " [6 0 5 0 4 8 7 8 3 3 6 3 5 4 9 2 8 5 6 8 4 7 1 4 7 6 9 3 7 7 1 7 3 2 4 6\n",
      "  6 1 9 6 1 6 0 0 5 8 6 7 9 2 8 9 9 2 8 5 7 3 4 7 2 6 7 4 9 6 9 9 8 5 3 3\n",
      "  2 0 5 1 5 1 7 0 1 2 2 7 3 3 6 8 2 6 2 6 9 0 6 5 5 5 9 5 5 0 6 0 4 0 7 7\n",
      "  0 3 2 1 7 1 8 1 5 8 9 5 4 1 0 5 0 0 7 4 3 6 4 9 3 1 1 5 8 4 3 9 5 8 5 6\n",
      "  2 9 0 8 3 6 6 0 7 7 5 4 7 8 5 2 6 9 7 1 8 1 6 0 6 6 4 4 5 9 8 8 6 4 4 9\n",
      "  6 9 1 6 6 2 9 1 8 1 3 8 4 7 2 8 1 9 8 6]\n",
      " [9 0 4 4 3 1 8 3 2 0 2 4 6 3 4 8 8 8 8 0 6 5 8 6 1 0 5 2 3 7 9 2 4 5 8 9\n",
      "  2 6 7 9 2 2 4 0 0 7 3 8 0 8 3 9 0 3 2 1 9 8 7 2 7 4 9 0 1 8 1 2 6 9 0 8\n",
      "  8 4 7 4 9 3 7 3 3 3 6 9 5 7 7 5 2 7 2 0 8 3 2 0 5 8 9 9 5 7 4 1 9 7 6 6\n",
      "  9 3 6 8 3 9 3 8 8 0 6 1 1 2 9 2 4 0 3 8 0 3 5 9 0 1 8 9 1 1 1 1 4 3 8 0\n",
      "  6 3 5 8 2 3 7 4 2 0 7 5 5 6 1 6 1 9 0 8 9 7 1 2 5 6 7 2 1 3 6 8 0 8 6 7\n",
      "  4 3 6 1 6 5 8 0 7 3 7 9 9 8 6 6 5 4 9 5]]\n"
     ]
    }
   ],
   "source": [
    "import sys\n",
    "import numpy as np\n",
    "ar = np.random.randint(10,size=4000).reshape(20,200)\n",
    "\n",
    "#assuming to print all the values without missing in an array or matrix\n",
    "\n",
    "np.set_printoptions(threshold=sys.maxsize)\n",
    "print(ar)"
   ]
  },
  {
   "cell_type": "markdown",
   "metadata": {},
   "source": [
    "# 10.Subtract the mean of each row of a matrix"
   ]
  },
  {
   "cell_type": "code",
   "execution_count": 10,
   "metadata": {},
   "outputs": [
    {
     "name": "stdout",
     "output_type": "stream",
     "text": [
      "[[13 15 17  4]\n",
      " [ 7  8 10 14]\n",
      " [ 6  4 17  5]]\n",
      "(3, 1)\n"
     ]
    },
    {
     "data": {
      "text/plain": [
       "array([[ 0.75,  2.75,  4.75, -8.25],\n",
       "       [-2.75, -1.75,  0.25,  4.25],\n",
       "       [-2.  , -4.  ,  9.  , -3.  ]])"
      ]
     },
     "execution_count": 10,
     "metadata": {},
     "output_type": "execute_result"
    }
   ],
   "source": [
    "r = np.random.randint(20, size =12).reshape(3,4)\n",
    "x = r.mean(axis=1, keepdims=True)\n",
    "print(r)\n",
    "print(x.shape)\n",
    "res = r-x\n",
    "res"
   ]
  },
  {
   "cell_type": "markdown",
   "metadata": {},
   "source": [
    "# 11.Consider a given vector, how to add 1 to each element indexed by a second vector (be careful with repeated indices)? "
   ]
  },
  {
   "cell_type": "code",
   "execution_count": 11,
   "metadata": {},
   "outputs": [
    {
     "name": "stdout",
     "output_type": "stream",
     "text": [
      "[8 2 7 3 6 5 5 1 2 6]\n",
      "[3 0 0 8 8 1 0 7 8 4 5 5 5 4 0 0 7 0 5 7]\n",
      "[14  3  7  4  8  9  5  4  5  6]\n"
     ]
    }
   ],
   "source": [
    "a = np.random.randint(10,size=10)\n",
    "print(a)\n",
    "b = np.random.randint(0,len(a),20)\n",
    "print(b)\n",
    "np.add.at(a,b,1)\n",
    "print(a)"
   ]
  },
  {
   "cell_type": "code",
   "execution_count": null,
   "metadata": {},
   "outputs": [],
   "source": []
  },
  {
   "cell_type": "markdown",
   "metadata": {},
   "source": [
    "# 12.How to get the diagonal of a dot product?"
   ]
  },
  {
   "cell_type": "code",
   "execution_count": 12,
   "metadata": {},
   "outputs": [
    {
     "name": "stdout",
     "output_type": "stream",
     "text": [
      "[[2 0]\n",
      " [3 3]]\n",
      "[[1 1]\n",
      " [0 0]]\n",
      "\n",
      "Dot prod mat \n",
      " [[2 2]\n",
      " [3 3]]\n",
      "Diagonal of dot product mat is  [2 3]\n"
     ]
    }
   ],
   "source": [
    "ar1 = np.random.randint(4,size=4).reshape(2,2)\n",
    "ar2 = np.random.randint(4,size=4).reshape(2,2)\n",
    "print(ar1)\n",
    "print(ar2)\n",
    "dot_mat = np.dot(ar1,ar2)\n",
    "print('')\n",
    "print('Dot prod mat \\n',dot_mat)\n",
    "print('Diagonal of dot product mat is ',np.diag(dot_mat))"
   ]
  },
  {
   "cell_type": "markdown",
   "metadata": {},
   "source": [
    "# 13.How to find the most frequent value in an array?"
   ]
  },
  {
   "cell_type": "code",
   "execution_count": 13,
   "metadata": {},
   "outputs": [
    {
     "data": {
      "text/plain": [
       "55"
      ]
     },
     "execution_count": 13,
     "metadata": {},
     "output_type": "execute_result"
    }
   ],
   "source": [
    "arr = np.array([1,2,3,4,5,6,6,7,55,55,55,55,99,99,99])\n",
    "np.bincount(arr).argmax()"
   ]
  },
  {
   "cell_type": "markdown",
   "metadata": {},
   "source": [
    "# 14.How to get the n largest values of an array"
   ]
  },
  {
   "cell_type": "code",
   "execution_count": 14,
   "metadata": {},
   "outputs": [
    {
     "name": "stdout",
     "output_type": "stream",
     "text": [
      "[16 17 18 19]\n",
      "[ 0  1  2  3  4  5  6  7  8  9 10 11 12 13 14 15 16 17 18 19]\n"
     ]
    }
   ],
   "source": [
    "ar0= np.arange(20)\n",
    "print(ar0[np.argsort(ar0)[-4:]])\n",
    "print(ar0)"
   ]
  },
  {
   "cell_type": "markdown",
   "metadata": {},
   "source": [
    "# 15.How to create a record array from a regular array?"
   ]
  },
  {
   "cell_type": "code",
   "execution_count": 15,
   "metadata": {},
   "outputs": [
    {
     "name": "stdout",
     "output_type": "stream",
     "text": [
      "[100 101 102]\n",
      "['A' 'B' 'C']\n",
      "[450 490 501]\n"
     ]
    }
   ],
   "source": [
    "a11 = np.array([100,101,102])\n",
    "a12= np.array(['A','B','C'])\n",
    "a13 = np.array([450,490,501])\n",
    "\n",
    "rarr= np.core.records.fromarrays([a11,a12,a13],names='RollNo, Name, TotalMarks')\n",
    "print(rarr.RollNo)\n",
    "print(rarr.Name)\n",
    "print(rarr.TotalMarks)"
   ]
  },
  {
   "cell_type": "code",
   "execution_count": null,
   "metadata": {},
   "outputs": [],
   "source": []
  },
  {
   "cell_type": "code",
   "execution_count": null,
   "metadata": {},
   "outputs": [],
   "source": []
  }
 ],
 "metadata": {
  "kernelspec": {
   "display_name": "Python 3",
   "language": "python",
   "name": "python3"
  },
  "language_info": {
   "codemirror_mode": {
    "name": "ipython",
    "version": 3
   },
   "file_extension": ".py",
   "mimetype": "text/x-python",
   "name": "python",
   "nbconvert_exporter": "python",
   "pygments_lexer": "ipython3",
   "version": "3.7.5"
  }
 },
 "nbformat": 4,
 "nbformat_minor": 2
}

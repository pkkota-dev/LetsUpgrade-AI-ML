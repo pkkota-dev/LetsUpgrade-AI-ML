{
 "cells": [
  {
   "cell_type": "code",
   "execution_count": 7,
   "metadata": {},
   "outputs": [
    {
     "name": "stdout",
     "output_type": "stream",
     "text": [
      "[1 2 3]\n",
      "<class 'numpy.ndarray'>\n",
      "1\n"
     ]
    }
   ],
   "source": [
    "import numpy as np\n",
    "a = np.array([1,2,3])\n",
    "print(a)\n",
    "print(type(a))\n",
    "print(a.ndim)"
   ]
  },
  {
   "cell_type": "markdown",
   "metadata": {},
   "source": [
    "Numpy Basics"
   ]
  },
  {
   "cell_type": "code",
   "execution_count": 10,
   "metadata": {},
   "outputs": [
    {
     "data": {
      "text/plain": [
       "1"
      ]
     },
     "execution_count": 10,
     "metadata": {},
     "output_type": "execute_result"
    }
   ],
   "source": [
    "a.ndim #Gives the number of access \n",
    "#Currently we create one dimension array so we are getting as 1"
   ]
  },
  {
   "cell_type": "code",
   "execution_count": 14,
   "metadata": {},
   "outputs": [
    {
     "data": {
      "text/plain": [
       "(3,)"
      ]
     },
     "execution_count": 14,
     "metadata": {},
     "output_type": "execute_result"
    }
   ],
   "source": [
    "a.shape \n",
    "#Give the shape of the array which means the number of rows x n0.of cols\n",
    "#if it is 1-D array we will get number of elements\n",
    "#if it is 2-D array we will get no.of rows X no.of cols\n",
    "#result we will get in the form of tuple"
   ]
  },
  {
   "cell_type": "code",
   "execution_count": 16,
   "metadata": {},
   "outputs": [
    {
     "data": {
      "text/plain": [
       "3"
      ]
     },
     "execution_count": 16,
     "metadata": {},
     "output_type": "execute_result"
    }
   ],
   "source": [
    "a.size #no.of elements in an array either 1-D or 2-D or 3-D"
   ]
  },
  {
   "cell_type": "code",
   "execution_count": 19,
   "metadata": {},
   "outputs": [
    {
     "data": {
      "text/plain": [
       "dtype('int32')"
      ]
     },
     "execution_count": 19,
     "metadata": {},
     "output_type": "execute_result"
    }
   ],
   "source": [
    "a.dtype #Gives the datatype of the elements\n",
    "#we can use either the default python data types or we can use the numpy datatypes\n",
    "#such as numpy.int32, np.int64, np.float64"
   ]
  },
  {
   "cell_type": "code",
   "execution_count": 21,
   "metadata": {},
   "outputs": [
    {
     "data": {
      "text/plain": [
       "4"
      ]
     },
     "execution_count": 21,
     "metadata": {},
     "output_type": "execute_result"
    }
   ],
   "source": [
    "a.itemsize #returns the no. of bytes of each element in array"
   ]
  },
  {
   "cell_type": "code",
   "execution_count": 37,
   "metadata": {},
   "outputs": [
    {
     "data": {
      "text/plain": [
       "(10,)"
      ]
     },
     "execution_count": 37,
     "metadata": {},
     "output_type": "execute_result"
    }
   ],
   "source": [
    "a.data.shape"
   ]
  },
  {
   "cell_type": "code",
   "execution_count": 42,
   "metadata": {},
   "outputs": [
    {
     "data": {
      "text/plain": [
       "array([[ 0,  1,  2,  3,  4],\n",
       "       [ 5,  6,  7,  8,  9],\n",
       "       [10, 11, 12, 13, 14],\n",
       "       [15, 16, 17, 18, 19]])"
      ]
     },
     "execution_count": 42,
     "metadata": {},
     "output_type": "execute_result"
    }
   ],
   "source": [
    "#creation of numpy array\n",
    "\n",
    "##numpy arrange() will returns the 1-D array  equalent to range() in python\n",
    "\n",
    "a = np.arange(10) \n",
    "a\n",
    "\n",
    "#to create multiple rows and cols we use reshape() with arrange()\n",
    "#in the below ex we are trying to reshape 20 elements \n",
    "#make sure those 20 elements fits after reshaping\n",
    "#below ex: reshape(5,2) fits only 10 elements but we are trying to arrange 20\n",
    "# make sure reshape() fits those 20 elements\n",
    "\n",
    "#b = np.arange(20).reshape(5,2) \n",
    "#b\n",
    "\n",
    "#so now we are arranging 20 elements in 4 rows 5 cols\n",
    "c= np.arange(20).reshape(4,5)\n",
    "c"
   ]
  },
  {
   "cell_type": "code",
   "execution_count": 45,
   "metadata": {},
   "outputs": [
    {
     "name": "stdout",
     "output_type": "stream",
     "text": [
      "[[1 2 3]\n",
      " [4 5 6]]\n"
     ]
    },
    {
     "data": {
      "text/plain": [
       "array([[1.+0.j, 2.+0.j, 3.+0.j],\n",
       "       [4.+0.j, 5.+0.j, 6.+0.j]])"
      ]
     },
     "execution_count": 45,
     "metadata": {},
     "output_type": "execute_result"
    }
   ],
   "source": [
    "#1-D Array\n",
    "a1 = np.array([1,2,3,4])\n",
    "\n",
    "#2-D Array creation\n",
    "a12 = np.array([[1,2,3],[4,5,6]])\n",
    "print(a12)\n",
    "\n",
    "#To create complex array we can explicilty mention dtype = complex in np.array()\n",
    "a2= np.array([[1,2,3],[4,5,6]], dtype=complex)\n",
    "a2"
   ]
  },
  {
   "cell_type": "code",
   "execution_count": 67,
   "metadata": {},
   "outputs": [
    {
     "name": "stdout",
     "output_type": "stream",
     "text": [
      "[[0. 0. 0. 0. 0.]\n",
      " [0. 0. 0. 0. 0.]\n",
      " [0. 0. 0. 0. 0.]\n",
      " [0. 0. 0. 0. 0.]]\n",
      "[[0. 0. 0. 0. 0.]\n",
      " [0. 0. 0. 0. 0.]\n",
      " [0. 0. 0. 0. 0.]\n",
      " [0. 0. 0. 0. 0.]]\n",
      "[[1. 1. 1. 1.]\n",
      " [1. 1. 1. 1.]\n",
      " [1. 1. 1. 1.]\n",
      " [1. 1. 1. 1.]\n",
      " [1. 1. 1. 1.]]\n",
      "[[1. 1. 1. 1.]\n",
      " [1. 1. 1. 1.]\n",
      " [1. 1. 1. 1.]\n",
      " [1. 1. 1. 1.]\n",
      " [1. 1. 1. 1.]]\n"
     ]
    },
    {
     "data": {
      "text/plain": [
       "array([[0.00000000e+000, 0.00000000e+000],\n",
       "       [0.00000000e+000, 0.00000000e+000],\n",
       "       [0.00000000e+000, 3.06320700e-321],\n",
       "       [7.53308506e-312, 7.53308506e-312]])"
      ]
     },
     "execution_count": 67,
     "metadata": {},
     "output_type": "execute_result"
    }
   ],
   "source": [
    "#Create a 2-D numpy array with default values as zero (0)\n",
    "#Param we are giving is the shape of the matrix\n",
    "z = np.zeros((4,5))\n",
    "print(z)\n",
    "\n",
    "#zeros_like() this method used to create a mat with the shape of other matrix\n",
    "\n",
    "z1 = np.zeros_like(z)\n",
    "print(z1)\n",
    "\n",
    "o = np.ones((5,4))\n",
    "print(o)\n",
    "\n",
    "o1 = np.ones_like(o)\n",
    "print(o1)\n",
    "\n",
    "#By multiplying with a scalar we can create a mat with the same element\n",
    "o2 = np.ones_like(o) *10\n",
    "o2\n",
    "\n",
    "#empty creates an array whose initial content is random depends on state of mem\n",
    "r = np.empty((4,2))\n",
    "r"
   ]
  },
  {
   "cell_type": "code",
   "execution_count": 70,
   "metadata": {},
   "outputs": [
    {
     "data": {
      "text/plain": [
       "array([0.        , 0.11111111, 0.22222222, 0.33333333, 0.44444444,\n",
       "       0.55555556, 0.66666667, 0.77777778, 0.88888889, 1.        ])"
      ]
     },
     "execution_count": 70,
     "metadata": {},
     "output_type": "execute_result"
    }
   ],
   "source": [
    "'''\n",
    "arange is used with floating point arguments, \n",
    "it is generally not possible to predict the number of elements obtained, \n",
    "due to the finite floating point precision. For this reason,\n",
    "it is usually better to use the function linspace\n",
    "that receives as an argument the number of elements that we want\n",
    "'''\n",
    "\n",
    "#the below fn return 10 numbers between 0 to 1  \n",
    "np.linspace(0,1,10)"
   ]
  },
  {
   "cell_type": "code",
   "execution_count": 71,
   "metadata": {},
   "outputs": [
    {
     "data": {
      "text/plain": [
       "array([[[ 0,  1,  2,  3],\n",
       "        [ 4,  5,  6,  7],\n",
       "        [ 8,  9, 10, 11]],\n",
       "\n",
       "       [[12, 13, 14, 15],\n",
       "        [16, 17, 18, 19],\n",
       "        [20, 21, 22, 23]]])"
      ]
     },
     "execution_count": 71,
     "metadata": {},
     "output_type": "execute_result"
    }
   ],
   "source": [
    "a3 = np.arange(24).reshape(2,3,4)\n",
    "a3"
   ]
  },
  {
   "cell_type": "code",
   "execution_count": 2,
   "metadata": {},
   "outputs": [
    {
     "data": {
      "text/plain": [
       "array([[   0,    1,    2, ...,   97,   98,   99],\n",
       "       [ 100,  101,  102, ...,  197,  198,  199],\n",
       "       [ 200,  201,  202, ...,  297,  298,  299],\n",
       "       ...,\n",
       "       [9700, 9701, 9702, ..., 9797, 9798, 9799],\n",
       "       [9800, 9801, 9802, ..., 9897, 9898, 9899],\n",
       "       [9900, 9901, 9902, ..., 9997, 9998, 9999]])"
      ]
     },
     "execution_count": 2,
     "metadata": {},
     "output_type": "execute_result"
    }
   ],
   "source": [
    "#import sys\n",
    "#np.set_printoptions(threshold=sys.maxsize)\n",
    "\n",
    "#as we are trying to display multiple numbers we are seeing only \n",
    "#first and last details to see each and every element \n",
    "#we need to use set_printoutoptions(threshold= sys.maxsize)\n",
    "#where sys is the system module which needs to be imported\n",
    "import numpy as np\n",
    "np.arange(10000).reshape(100,100)\n"
   ]
  },
  {
   "cell_type": "markdown",
   "metadata": {},
   "source": [
    "# Basic Operations"
   ]
  },
  {
   "cell_type": "code",
   "execution_count": 3,
   "metadata": {},
   "outputs": [
    {
     "name": "stdout",
     "output_type": "stream",
     "text": [
      "[1 2 3 4]\n",
      "[0 1 2 3]\n"
     ]
    }
   ],
   "source": [
    "#addition operation\n",
    "a= np.array([1,2,3,4])\n",
    "b = np.arange(4)\n",
    "print(a)\n",
    "print(b)"
   ]
  },
  {
   "cell_type": "code",
   "execution_count": 10,
   "metadata": {},
   "outputs": [
    {
     "name": "stdout",
     "output_type": "stream",
     "text": [
      "[1 3 5 7]\n",
      "[1 1 1 1]\n",
      "[ 0  2  6 12]\n",
      "20\n",
      "20\n",
      "[[ 47  20]\n",
      " [235 210]]\n",
      "[[ 47  20]\n",
      " [235 210]]\n"
     ]
    }
   ],
   "source": [
    "#addition\n",
    "print(a+b)\n",
    "\n",
    "#sub\n",
    "print(a-b)\n",
    "\n",
    "#check if every val is grater or lesser to specific val\n",
    "a> 3\n",
    "\n",
    "#multiplication\n",
    "#Below is the normal multiplication which will multiply element wise only\n",
    "print(a*b) \n",
    "\n",
    "#Normal matrix multiplication is achieved by using dot prod or @ operator\n",
    "print(a@b)\n",
    "print(a.dot(b))\n",
    "\n",
    "#dot operator mul\n",
    "a1= np.arange(4).reshape(2,2)\n",
    "a2 = np.random.randint(100, size=4).reshape(2,2)\n",
    "\n",
    "print(a1@a2)\n",
    "print(a1.dot(a2))"
   ]
  },
  {
   "cell_type": "code",
   "execution_count": 16,
   "metadata": {},
   "outputs": [
    {
     "data": {
      "text/plain": [
       "(189, 319, 3)"
      ]
     },
     "execution_count": 16,
     "metadata": {},
     "output_type": "execute_result"
    }
   ],
   "source": [
    "import cv2\n",
    "img = cv2.imread('Q1.jpg')\n",
    "\n",
    "import sys\n",
    "np.set_printoptions(threshold=sys.maxsize)\n",
    "img.shape\n",
    "\n",
    "#print(img)"
   ]
  },
  {
   "cell_type": "code",
   "execution_count": null,
   "metadata": {},
   "outputs": [],
   "source": []
  }
 ],
 "metadata": {
  "kernelspec": {
   "display_name": "Python 3",
   "language": "python",
   "name": "python3"
  },
  "language_info": {
   "codemirror_mode": {
    "name": "ipython",
    "version": 3
   },
   "file_extension": ".py",
   "mimetype": "text/x-python",
   "name": "python",
   "nbconvert_exporter": "python",
   "pygments_lexer": "ipython3",
   "version": "3.7.5"
  }
 },
 "nbformat": 4,
 "nbformat_minor": 4
}

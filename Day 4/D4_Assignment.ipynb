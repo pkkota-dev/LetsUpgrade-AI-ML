{
 "cells": [
  {
   "cell_type": "code",
   "execution_count": 98,
   "metadata": {},
   "outputs": [
    {
     "name": "stdout",
     "output_type": "stream",
     "text": [
      "addition of complex numbers (3+3j)\n",
      "Subtraction of complex numbers (-1-1j)\n",
      "multiplication of complex numbers 4j\n",
      "division of complex numbers (0.5+0j)\n",
      "(4-4j)\n",
      "(3-2j)\n",
      "value of x1=  (52-52j)  value of x2=  (13+0j)\n",
      "floor division of 2 complex numbers x1 and x2 = (4-4j)\n",
      "(3+1j)\n"
     ]
    }
   ],
   "source": [
    "'''Question 1 :\n",
    "Research on whether addition, subtraction, multiplication, division, floor division and modulo\n",
    "operations be performed on complex numbers. Based on your study, implement a Python\n",
    "program to demonstrate these operations.\n",
    "'''\n",
    "\n",
    "a = 1+1j\n",
    "b = 2+2j\n",
    "\n",
    "print('addition of complex numbers', a+b)\n",
    "print('Subtraction of complex numbers', a-b)\n",
    "print('multiplication of complex numbers', a*b)\n",
    "print('division of complex numbers', a/b)\n",
    "\n",
    "\n",
    "\n",
    "##Floor division cant be achieved directly like addition and sub\n",
    "##to perform floor division operation performed the below way\n",
    "x1 = 20-4j\n",
    "x2= 3+2j\n",
    "\n",
    "print(x1/x2)\n",
    "print(x2.conjugate())\n",
    "## now we are trying to achive the floor division operation x1//x2\n",
    "## multiply both numerator and denominator with the conjugate which means\n",
    "## if there is a+bj is there then a-bj is the conjugate\n",
    "## multiply numerator and denominator with a-bj which in our case \"3-2j\" or ise\n",
    "## x2.conjugate()\n",
    "\n",
    "##now x1, x2 results\n",
    "x1 = x1* x2.conjugate()\n",
    "x2 = x2 * x2.conjugate()\n",
    "\n",
    "print('value of x1= ',x1, ' value of x2= ', x2)\n",
    "\n",
    "## Now we can see there is no imaginary part in x2\n",
    "## so we can perform the floor division with each of the variable available\n",
    "## As there is not imaginary value in x2 now we can take the real value of it\n",
    "\n",
    "real = (x1.real//x2.real) \n",
    "iamginary =  (x1.imag//x2.real)\n",
    "res = complex(real, iamginary)\n",
    "print('floor division of 2 complex numbers x1 and x2 =',res)\n",
    "\n",
    "\n",
    "######Modulo Operator########\n",
    "'''\n",
    "we cant do modulo operation directly as addition, subtraction and division so\n",
    "trying to achive by following possible way observed\n",
    "'''\n",
    "#val1 =  26+120j\n",
    "#val2 =  37 +226j\n",
    "val1 = 8+2j\n",
    "val2 = 2+1j\n",
    "nr = val1 * val2.conjugate()\n",
    "dr = val2 * val2.conjugate()\n",
    "\n",
    "##After multiplying the denominator with its conjugate we will be getting the real number\n",
    "## so we can perform modulo operation on real and imaginary part seperately\n",
    "print(complex(nr.real%dr.real, nr.imag%dr.real))\n",
    "\n"
   ]
  },
  {
   "cell_type": "markdown",
   "metadata": {},
   "source": [
    "Question 2 :\n",
    "<br>\n",
    "Research on range() functions and its parameters. Create a markdown cell and write in your own\n",
    "words (no copy-paste from google please) what you understand about it. Implement a small\n",
    "program of your choice on the same.\n",
    "\n"
   ]
  },
  {
   "cell_type": "markdown",
   "metadata": {},
   "source": [
    "###### Understanding about range() function\n",
    "'''\n",
    "range() function is used to generate a numbers based on the parameter values provided\n",
    "\n",
    "-> range(number):\n",
    "\n",
    "This generates the numbers from 1 to numlber -1\n",
    "\n",
    "for ex: range(5)\n",
    "this generates the numbers from 1 to 5-1 (4) : 0,1,2,3,4\n",
    "\n",
    "-> range(start, stop):\n",
    "\n",
    "This generates numbers from number start untill number stop or else we can say (stop -1)\n",
    "\n",
    "For ex: range(1,6) \n",
    "this function generated numbers from 1 to 6-1 which generates till 5\n",
    "\n",
    "\n",
    "-> range(start, stop, step)\n",
    "\n",
    "This generates number from number start untill number stop or else we can say (stop -1)\n",
    "with the vlaue difference between numbers = step\n",
    "\n",
    "for ex: range(1, 10, 2)\n",
    "This generates numbers from 1 to 9 with the step value 2\n",
    "which means the difference between the first number and the second one is 2\n",
    "result will be 1, 3, 5, 7,9\n",
    "'''\n"
   ]
  },
  {
   "cell_type": "code",
   "execution_count": 84,
   "metadata": {},
   "outputs": [
    {
     "name": "stdout",
     "output_type": "stream",
     "text": [
      "Case 1\n",
      "0 1 2 3 4 5 6 7 8 9 \n",
      "Case 2\n",
      "1 2 3 4 \n",
      "Case 3\n",
      "1 3 5 7 9 "
     ]
    }
   ],
   "source": [
    "###Case 1\n",
    "print('Case 1')\n",
    "for i in range(10):\n",
    "    print(i, end=\" \")\n",
    "\n",
    "#case 2\n",
    "print('\\nCase 2')\n",
    "for j in range(1,5):\n",
    "    print(j, end=\" \")\n",
    "\n",
    "#case 3\n",
    "print('\\nCase 3')\n",
    "for k in range(1,10, 2):\n",
    "    print(k, end=\" \")"
   ]
  },
  {
   "cell_type": "markdown",
   "metadata": {},
   "source": [
    "Question 3:\n",
    "<br>\n",
    "Consider two numbers. Perform their subtraction and if the result of subtraction is greater than\n",
    "25, print their multiplication result else print their division result.\n"
   ]
  },
  {
   "cell_type": "code",
   "execution_count": 87,
   "metadata": {},
   "outputs": [
    {
     "name": "stdout",
     "output_type": "stream",
     "text": [
      "Multiplication of 2 numbers is 2000\n"
     ]
    }
   ],
   "source": [
    "num1 = 100\n",
    "num2 = 20\n",
    "\n",
    "if(abs(num1-num2) > 25):\n",
    "    print('Multiplication of 2 numbers is',num1*num2)\n",
    "else:\n",
    "    print('Division of 2 numbers is',num1/num2)"
   ]
  },
  {
   "cell_type": "markdown",
   "metadata": {},
   "source": [
    "Question 4:\n",
    "<br>\n",
    "Consider a list of 10 elements of integer values. If the number in the list is divisible by 2, print the\n",
    "result as \"square of that number minus 2\".\n"
   ]
  },
  {
   "cell_type": "code",
   "execution_count": 95,
   "metadata": {},
   "outputs": [
    {
     "name": "stdout",
     "output_type": "stream",
     "text": [
      "[73, 84, 79, 91, 78, 58, 35, 5, 4, 19]\n",
      "7054\n",
      "6082\n",
      "3362\n",
      "14\n",
      "[7054, 6082, 3362, 14]\n"
     ]
    }
   ],
   "source": [
    "import random\n",
    "lst = []\n",
    "\n",
    "for i in range(1,11):\n",
    "    lst.append(random.randint(1,100))\n",
    "print(lst)\n",
    "\n",
    "###if wants to print seperately\n",
    "for num in lst:\n",
    "    if num%2==0:\n",
    "        print(num**2 -2)\n",
    "        \n",
    "## if needs to create a list\n",
    "nlst=[]\n",
    "for num in lst:\n",
    "    if num%2==0:\n",
    "       nlst.append(num**2 -2) \n",
    "print(nlst)"
   ]
  },
  {
   "cell_type": "markdown",
   "metadata": {},
   "source": [
    "Question 5:\n",
    "<br>\n",
    "Consider a list of 10 elements. Print all the elements in the list which are greater than 7 when that\n",
    "number is divided 2."
   ]
  },
  {
   "cell_type": "code",
   "execution_count": 97,
   "metadata": {},
   "outputs": [
    {
     "name": "stdout",
     "output_type": "stream",
     "text": [
      "[62, 16, 52, 98, 92, 2, 8, 72, 88, 19]\n",
      "62\n",
      "16\n",
      "52\n",
      "98\n",
      "92\n",
      "8\n",
      "72\n",
      "88\n"
     ]
    }
   ],
   "source": [
    "import random\n",
    "lst = []\n",
    "\n",
    "for i in range(1,11):\n",
    "    lst.append(random.randint(1,100))\n",
    "print(lst)\n",
    "\n",
    "for num in lst:\n",
    "    if num >7 and num%2 ==0:\n",
    "        print(num)"
   ]
  }
 ],
 "metadata": {
  "kernelspec": {
   "display_name": "Python 3",
   "language": "python",
   "name": "python3"
  },
  "language_info": {
   "codemirror_mode": {
    "name": "ipython",
    "version": 3
   },
   "file_extension": ".py",
   "mimetype": "text/x-python",
   "name": "python",
   "nbconvert_exporter": "python",
   "pygments_lexer": "ipython3",
   "version": "3.7.5"
  }
 },
 "nbformat": 4,
 "nbformat_minor": 4
}
